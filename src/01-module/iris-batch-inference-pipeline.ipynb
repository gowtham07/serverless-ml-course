{
  "cells": [
    {
      "cell_type": "markdown",
      "metadata": {
        "id": "d2kLrOh-bpGy"
      },
      "source": [
        "# Iris Flower - Batch Prediction\n",
        "\n",
        "\n",
        "In this notebook we will, \n",
        "\n",
        "1. Load the batch inference data that arrived in the last 24 hours\n",
        "2. Predict the first Iris Flower found in the batch\n",
        "3. Write the ouput png of the Iris flower predicted, to be displayed in Github Pages."
      ]
    },
    {
      "cell_type": "code",
      "source": [
        "# !pip install hopsworks\n",
        "# !pip install dataframe_image"
      ],
      "metadata": {
        "id": "durASVlNtfp3"
      },
      "execution_count": 21,
      "outputs": []
    },
    {
      "cell_type": "code",
      "execution_count": 4,
      "metadata": {
        "id": "xRtpj-psbpG8",
        "colab": {
          "base_uri": "https://localhost:8080/"
        },
        "outputId": "d2796e05-94ec-470f-a46c-b9032c92b2bb"
      },
      "outputs": [
        {
          "output_type": "stream",
          "name": "stdout",
          "text": [
            "Copy your Api Key (first register/login): https://c.app.hopsworks.ai/account/api/generated\n",
            "\n",
            "Paste it here: diU3ohPUoU8X8PKd.aeIAufKj8KmvJK7y3mNDYHkPgYZTz7zx1cF2V9tcV9AVNrO9HbylT2Cjzha5Gzzo\n",
            "Connected. Call `.close()` to terminate connection gracefully.\n",
            "\n",
            "Logged in to project, explore it here https://c.app.hopsworks.ai:443/p/3258\n",
            "Connected. Call `.close()` to terminate connection gracefully.\n"
          ]
        },
        {
          "output_type": "stream",
          "name": "stderr",
          "text": [
            "DeprecationWarning: Using or importing the ABCs from 'collections' instead of from 'collections.abc' is deprecated since Python 3.3,and in 3.9 it will stop working\n",
            "DeprecationWarning: Using or importing the ABCs from 'collections' instead of from 'collections.abc' is deprecated since Python 3.3,and in 3.9 it will stop working\n"
          ]
        }
      ],
      "source": [
        "import pandas as pd\n",
        "import hopsworks\n",
        "import joblib\n",
        "\n",
        "project = hopsworks.login()\n",
        "fs = project.get_feature_store()"
      ]
    },
    {
      "cell_type": "code",
      "execution_count": 5,
      "metadata": {
        "colab": {
          "base_uri": "https://localhost:8080/"
        },
        "id": "6CmADiNhtHtK",
        "outputId": "b27dfb78-886d-489a-ebd6-650537cb7815"
      },
      "outputs": [
        {
          "output_type": "stream",
          "name": "stdout",
          "text": [
            "Connected. Call `.close()` to terminate connection gracefully.\n",
            "Downloading file ... "
          ]
        }
      ],
      "source": [
        "mr = project.get_model_registry()\n",
        "model = mr.get_model(\"iris\", version=2)\n",
        "model_dir = model.download()\n",
        "model = joblib.load(model_dir + \"/iris_model.pkl\")"
      ]
    },
    {
      "cell_type": "markdown",
      "metadata": {
        "id": "P7PjyUVitHtK"
      },
      "source": [
        "We are downloading the 'raw' iris data. We explicitly do not want transformed data, reading for training. \n",
        "\n",
        "So, let's download the iris dataset, and preview some rows. \n",
        "\n",
        "Note, that it is 'tabular data'. There are 5 columns: 4 of them are \"features\", and the \"variety\" column is the **target** (what we are trying to predict using the 4 feature values in the target's row)."
      ]
    },
    {
      "cell_type": "code",
      "execution_count": 6,
      "metadata": {
        "id": "nRmFM7vcbpHA"
      },
      "outputs": [],
      "source": [
        "feature_view = fs.get_feature_view(name=\"iris\", version=1)"
      ]
    },
    {
      "cell_type": "markdown",
      "metadata": {
        "id": "hb4pxrUztHtL"
      },
      "source": [
        "Now we will do some **Batch Inference**. \n",
        "\n",
        "We will read all the input features that have arrived in the last 24 hours, and score them."
      ]
    },
    {
      "cell_type": "code",
      "execution_count": 37,
      "metadata": {
        "id": "uHuAD3ttP8Ep",
        "colab": {
          "base_uri": "https://localhost:8080/"
        },
        "outputId": "db69f656-6b14-4e37-e137-8fe360e3ad04"
      },
      "outputs": [
        {
          "output_type": "execute_result",
          "data": {
            "text/plain": [
              "array(['Setosa', 'Versicolor', 'Virginica', 'Versicolor', 'Setosa',\n",
              "       'Versicolor', 'Virginica', 'Versicolor', 'Setosa', 'Setosa',\n",
              "       'Setosa', 'Setosa', 'Virginica', 'Virginica', 'Setosa',\n",
              "       'Virginica', 'Versicolor', 'Setosa', 'Versicolor', 'Versicolor',\n",
              "       'Setosa', 'Versicolor', 'Setosa', 'Setosa', 'Versicolor',\n",
              "       'Virginica', 'Virginica', 'Virginica', 'Virginica', 'Versicolor',\n",
              "       'Versicolor', 'Setosa', 'Setosa', 'Virginica', 'Setosa',\n",
              "       'Virginica', 'Setosa', 'Versicolor', 'Virginica', 'Versicolor',\n",
              "       'Virginica', 'Setosa', 'Versicolor', 'Virginica', 'Versicolor',\n",
              "       'Setosa', 'Versicolor', 'Versicolor', 'Virginica', 'Setosa',\n",
              "       'Setosa', 'Virginica', 'Virginica', 'Versicolor', 'Versicolor',\n",
              "       'Virginica', 'Virginica', 'Versicolor', 'Versicolor', 'Setosa',\n",
              "       'Virginica', 'Virginica', 'Virginica', 'Setosa', 'Virginica',\n",
              "       'Setosa', 'Versicolor', 'Versicolor', 'Setosa', 'Setosa', 'Setosa',\n",
              "       'Virginica', 'Versicolor', 'Versicolor', 'Versicolor', 'Virginica',\n",
              "       'Versicolor', 'Virginica', 'Versicolor', 'Setosa', 'Setosa',\n",
              "       'Setosa', 'Virginica', 'Virginica', 'Versicolor', 'Setosa',\n",
              "       'Versicolor', 'Virginica', 'Setosa', 'Virginica', 'Virginica',\n",
              "       'Virginica', 'Versicolor', 'Versicolor', 'Versicolor', 'Setosa',\n",
              "       'Setosa', 'Setosa', 'Versicolor', 'Virginica', 'Virginica',\n",
              "       'Setosa', 'Setosa', 'Versicolor', 'Virginica', 'Setosa',\n",
              "       'Versicolor', 'Virginica', 'Versicolor', 'Virginica', 'Setosa',\n",
              "       'Versicolor', 'Virginica', 'Setosa', 'Setosa', 'Virginica',\n",
              "       'Versicolor', 'Setosa', 'Versicolor', 'Versicolor', 'Virginica',\n",
              "       'Versicolor', 'Setosa', 'Virginica', 'Versicolor', 'Virginica',\n",
              "       'Versicolor', 'Virginica', 'Virginica', 'Setosa', 'Versicolor',\n",
              "       'Versicolor', 'Setosa', 'Setosa', 'Virginica', 'Versicolor',\n",
              "       'Virginica', 'Setosa', 'Setosa', 'Versicolor', 'Setosa',\n",
              "       'Virginica', 'Setosa', 'Setosa', 'Versicolor', 'Virginica',\n",
              "       'Virginica', 'Virginica', 'Setosa', 'Virginica', 'Versicolor'],\n",
              "      dtype=object)"
            ]
          },
          "metadata": {},
          "execution_count": 37
        }
      ],
      "source": [
        "import datetime\n",
        "from PIL import Image\n",
        "\n",
        "batch_data = feature_view.get_batch_data()\n",
        "\n",
        "y_pred = model.predict(batch_data)\n",
        "\n",
        "y_pred"
      ]
    },
    {
      "cell_type": "code",
      "execution_count": 38,
      "metadata": {
        "colab": {
          "base_uri": "https://localhost:8080/",
          "height": 424
        },
        "id": "psgjdh90tHtM",
        "outputId": "5b5e00cf-a4a0-46a8-dbc0-6053cae58b50"
      },
      "outputs": [
        {
          "output_type": "execute_result",
          "data": {
            "text/plain": [
              "     sepal_length  sepal_width  petal_length  petal_width\n",
              "0        5.700000     3.800000      1.700000     0.300000\n",
              "1        5.600000     2.700000      4.200000     1.300000\n",
              "2        6.300000     3.300000      6.000000     2.500000\n",
              "3        6.000000     2.900000      4.500000     1.500000\n",
              "4        5.000000     3.000000      1.600000     0.200000\n",
              "..            ...          ...           ...          ...\n",
              "146      6.500000     3.000000      5.500000     1.800000\n",
              "147      6.400000     2.800000      5.600000     2.100000\n",
              "148      5.000000     3.400000      1.600000     0.400000\n",
              "149      7.585096     3.196326      6.270201     1.538527\n",
              "150      5.688805     3.006160      4.607135     1.530432\n",
              "\n",
              "[151 rows x 4 columns]"
            ],
            "text/html": [
              "\n",
              "  <div id=\"df-bce8b3b9-7f9a-4c64-aa72-414a02a23dfe\">\n",
              "    <div class=\"colab-df-container\">\n",
              "      <div>\n",
              "<style scoped>\n",
              "    .dataframe tbody tr th:only-of-type {\n",
              "        vertical-align: middle;\n",
              "    }\n",
              "\n",
              "    .dataframe tbody tr th {\n",
              "        vertical-align: top;\n",
              "    }\n",
              "\n",
              "    .dataframe thead th {\n",
              "        text-align: right;\n",
              "    }\n",
              "</style>\n",
              "<table border=\"1\" class=\"dataframe\">\n",
              "  <thead>\n",
              "    <tr style=\"text-align: right;\">\n",
              "      <th></th>\n",
              "      <th>sepal_length</th>\n",
              "      <th>sepal_width</th>\n",
              "      <th>petal_length</th>\n",
              "      <th>petal_width</th>\n",
              "    </tr>\n",
              "  </thead>\n",
              "  <tbody>\n",
              "    <tr>\n",
              "      <th>0</th>\n",
              "      <td>5.700000</td>\n",
              "      <td>3.800000</td>\n",
              "      <td>1.700000</td>\n",
              "      <td>0.300000</td>\n",
              "    </tr>\n",
              "    <tr>\n",
              "      <th>1</th>\n",
              "      <td>5.600000</td>\n",
              "      <td>2.700000</td>\n",
              "      <td>4.200000</td>\n",
              "      <td>1.300000</td>\n",
              "    </tr>\n",
              "    <tr>\n",
              "      <th>2</th>\n",
              "      <td>6.300000</td>\n",
              "      <td>3.300000</td>\n",
              "      <td>6.000000</td>\n",
              "      <td>2.500000</td>\n",
              "    </tr>\n",
              "    <tr>\n",
              "      <th>3</th>\n",
              "      <td>6.000000</td>\n",
              "      <td>2.900000</td>\n",
              "      <td>4.500000</td>\n",
              "      <td>1.500000</td>\n",
              "    </tr>\n",
              "    <tr>\n",
              "      <th>4</th>\n",
              "      <td>5.000000</td>\n",
              "      <td>3.000000</td>\n",
              "      <td>1.600000</td>\n",
              "      <td>0.200000</td>\n",
              "    </tr>\n",
              "    <tr>\n",
              "      <th>...</th>\n",
              "      <td>...</td>\n",
              "      <td>...</td>\n",
              "      <td>...</td>\n",
              "      <td>...</td>\n",
              "    </tr>\n",
              "    <tr>\n",
              "      <th>146</th>\n",
              "      <td>6.500000</td>\n",
              "      <td>3.000000</td>\n",
              "      <td>5.500000</td>\n",
              "      <td>1.800000</td>\n",
              "    </tr>\n",
              "    <tr>\n",
              "      <th>147</th>\n",
              "      <td>6.400000</td>\n",
              "      <td>2.800000</td>\n",
              "      <td>5.600000</td>\n",
              "      <td>2.100000</td>\n",
              "    </tr>\n",
              "    <tr>\n",
              "      <th>148</th>\n",
              "      <td>5.000000</td>\n",
              "      <td>3.400000</td>\n",
              "      <td>1.600000</td>\n",
              "      <td>0.400000</td>\n",
              "    </tr>\n",
              "    <tr>\n",
              "      <th>149</th>\n",
              "      <td>7.585096</td>\n",
              "      <td>3.196326</td>\n",
              "      <td>6.270201</td>\n",
              "      <td>1.538527</td>\n",
              "    </tr>\n",
              "    <tr>\n",
              "      <th>150</th>\n",
              "      <td>5.688805</td>\n",
              "      <td>3.006160</td>\n",
              "      <td>4.607135</td>\n",
              "      <td>1.530432</td>\n",
              "    </tr>\n",
              "  </tbody>\n",
              "</table>\n",
              "<p>151 rows × 4 columns</p>\n",
              "</div>\n",
              "      <button class=\"colab-df-convert\" onclick=\"convertToInteractive('df-bce8b3b9-7f9a-4c64-aa72-414a02a23dfe')\"\n",
              "              title=\"Convert this dataframe to an interactive table.\"\n",
              "              style=\"display:none;\">\n",
              "        \n",
              "  <svg xmlns=\"http://www.w3.org/2000/svg\" height=\"24px\"viewBox=\"0 0 24 24\"\n",
              "       width=\"24px\">\n",
              "    <path d=\"M0 0h24v24H0V0z\" fill=\"none\"/>\n",
              "    <path d=\"M18.56 5.44l.94 2.06.94-2.06 2.06-.94-2.06-.94-.94-2.06-.94 2.06-2.06.94zm-11 1L8.5 8.5l.94-2.06 2.06-.94-2.06-.94L8.5 2.5l-.94 2.06-2.06.94zm10 10l.94 2.06.94-2.06 2.06-.94-2.06-.94-.94-2.06-.94 2.06-2.06.94z\"/><path d=\"M17.41 7.96l-1.37-1.37c-.4-.4-.92-.59-1.43-.59-.52 0-1.04.2-1.43.59L10.3 9.45l-7.72 7.72c-.78.78-.78 2.05 0 2.83L4 21.41c.39.39.9.59 1.41.59.51 0 1.02-.2 1.41-.59l7.78-7.78 2.81-2.81c.8-.78.8-2.07 0-2.86zM5.41 20L4 18.59l7.72-7.72 1.47 1.35L5.41 20z\"/>\n",
              "  </svg>\n",
              "      </button>\n",
              "      \n",
              "  <style>\n",
              "    .colab-df-container {\n",
              "      display:flex;\n",
              "      flex-wrap:wrap;\n",
              "      gap: 12px;\n",
              "    }\n",
              "\n",
              "    .colab-df-convert {\n",
              "      background-color: #E8F0FE;\n",
              "      border: none;\n",
              "      border-radius: 50%;\n",
              "      cursor: pointer;\n",
              "      display: none;\n",
              "      fill: #1967D2;\n",
              "      height: 32px;\n",
              "      padding: 0 0 0 0;\n",
              "      width: 32px;\n",
              "    }\n",
              "\n",
              "    .colab-df-convert:hover {\n",
              "      background-color: #E2EBFA;\n",
              "      box-shadow: 0px 1px 2px rgba(60, 64, 67, 0.3), 0px 1px 3px 1px rgba(60, 64, 67, 0.15);\n",
              "      fill: #174EA6;\n",
              "    }\n",
              "\n",
              "    [theme=dark] .colab-df-convert {\n",
              "      background-color: #3B4455;\n",
              "      fill: #D2E3FC;\n",
              "    }\n",
              "\n",
              "    [theme=dark] .colab-df-convert:hover {\n",
              "      background-color: #434B5C;\n",
              "      box-shadow: 0px 1px 3px 1px rgba(0, 0, 0, 0.15);\n",
              "      filter: drop-shadow(0px 1px 2px rgba(0, 0, 0, 0.3));\n",
              "      fill: #FFFFFF;\n",
              "    }\n",
              "  </style>\n",
              "\n",
              "      <script>\n",
              "        const buttonEl =\n",
              "          document.querySelector('#df-bce8b3b9-7f9a-4c64-aa72-414a02a23dfe button.colab-df-convert');\n",
              "        buttonEl.style.display =\n",
              "          google.colab.kernel.accessAllowed ? 'block' : 'none';\n",
              "\n",
              "        async function convertToInteractive(key) {\n",
              "          const element = document.querySelector('#df-bce8b3b9-7f9a-4c64-aa72-414a02a23dfe');\n",
              "          const dataTable =\n",
              "            await google.colab.kernel.invokeFunction('convertToInteractive',\n",
              "                                                     [key], {});\n",
              "          if (!dataTable) return;\n",
              "\n",
              "          const docLinkHtml = 'Like what you see? Visit the ' +\n",
              "            '<a target=\"_blank\" href=https://colab.research.google.com/notebooks/data_table.ipynb>data table notebook</a>'\n",
              "            + ' to learn more about interactive tables.';\n",
              "          element.innerHTML = '';\n",
              "          dataTable['output_type'] = 'display_data';\n",
              "          await google.colab.output.renderOutput(dataTable, element);\n",
              "          const docLink = document.createElement('div');\n",
              "          docLink.innerHTML = docLinkHtml;\n",
              "          element.appendChild(docLink);\n",
              "        }\n",
              "      </script>\n",
              "    </div>\n",
              "  </div>\n",
              "  "
            ]
          },
          "metadata": {},
          "execution_count": 38
        }
      ],
      "source": [
        "batch_data"
      ]
    },
    {
      "cell_type": "markdown",
      "metadata": {
        "id": "NooH-FFqtHtM"
      },
      "source": [
        "Batch prediction output is the last entry in the batch - it is output as a file 'latest_iris.png'"
      ]
    },
    {
      "cell_type": "code",
      "execution_count": 39,
      "metadata": {
        "id": "eq7PP_zPtHtN"
      },
      "outputs": [],
      "source": [
        "flower = y_pred[y_pred.size-1]\n",
        "flower_img = \"/assets/\" + flower + \".png\"\n",
        "img = Image.open(flower_img)            \n",
        "\n",
        "img.save(\"../../assets/latest_iris.png\")"
      ]
    },
    {
      "cell_type": "code",
      "execution_count": 40,
      "metadata": {
        "colab": {
          "base_uri": "https://localhost:8080/",
          "height": 424
        },
        "id": "bdRhFMXutHtN",
        "outputId": "4b49dd6f-8354-4775-beb7-fb65bc725d45"
      },
      "outputs": [
        {
          "output_type": "execute_result",
          "data": {
            "text/plain": [
              "     sepal_length  sepal_width  petal_length  petal_width     variety\n",
              "0        5.700000     3.800000      1.700000     0.300000      Setosa\n",
              "1        5.600000     2.700000      4.200000     1.300000  Versicolor\n",
              "2        6.300000     3.300000      6.000000     2.500000   Virginica\n",
              "3        6.000000     2.900000      4.500000     1.500000  Versicolor\n",
              "4        5.000000     3.000000      1.600000     0.200000      Setosa\n",
              "..            ...          ...           ...          ...         ...\n",
              "146      6.500000     3.000000      5.500000     1.800000   Virginica\n",
              "147      6.400000     2.800000      5.600000     2.100000   Virginica\n",
              "148      5.000000     3.400000      1.600000     0.400000      Setosa\n",
              "149      7.585096     3.196326      6.270201     1.538527   Virginica\n",
              "150      5.688805     3.006160      4.607135     1.530432  Versicolor\n",
              "\n",
              "[151 rows x 5 columns]"
            ],
            "text/html": [
              "\n",
              "  <div id=\"df-23ff8a6a-7d5c-4907-8260-2b181604630e\">\n",
              "    <div class=\"colab-df-container\">\n",
              "      <div>\n",
              "<style scoped>\n",
              "    .dataframe tbody tr th:only-of-type {\n",
              "        vertical-align: middle;\n",
              "    }\n",
              "\n",
              "    .dataframe tbody tr th {\n",
              "        vertical-align: top;\n",
              "    }\n",
              "\n",
              "    .dataframe thead th {\n",
              "        text-align: right;\n",
              "    }\n",
              "</style>\n",
              "<table border=\"1\" class=\"dataframe\">\n",
              "  <thead>\n",
              "    <tr style=\"text-align: right;\">\n",
              "      <th></th>\n",
              "      <th>sepal_length</th>\n",
              "      <th>sepal_width</th>\n",
              "      <th>petal_length</th>\n",
              "      <th>petal_width</th>\n",
              "      <th>variety</th>\n",
              "    </tr>\n",
              "  </thead>\n",
              "  <tbody>\n",
              "    <tr>\n",
              "      <th>0</th>\n",
              "      <td>5.700000</td>\n",
              "      <td>3.800000</td>\n",
              "      <td>1.700000</td>\n",
              "      <td>0.300000</td>\n",
              "      <td>Setosa</td>\n",
              "    </tr>\n",
              "    <tr>\n",
              "      <th>1</th>\n",
              "      <td>5.600000</td>\n",
              "      <td>2.700000</td>\n",
              "      <td>4.200000</td>\n",
              "      <td>1.300000</td>\n",
              "      <td>Versicolor</td>\n",
              "    </tr>\n",
              "    <tr>\n",
              "      <th>2</th>\n",
              "      <td>6.300000</td>\n",
              "      <td>3.300000</td>\n",
              "      <td>6.000000</td>\n",
              "      <td>2.500000</td>\n",
              "      <td>Virginica</td>\n",
              "    </tr>\n",
              "    <tr>\n",
              "      <th>3</th>\n",
              "      <td>6.000000</td>\n",
              "      <td>2.900000</td>\n",
              "      <td>4.500000</td>\n",
              "      <td>1.500000</td>\n",
              "      <td>Versicolor</td>\n",
              "    </tr>\n",
              "    <tr>\n",
              "      <th>4</th>\n",
              "      <td>5.000000</td>\n",
              "      <td>3.000000</td>\n",
              "      <td>1.600000</td>\n",
              "      <td>0.200000</td>\n",
              "      <td>Setosa</td>\n",
              "    </tr>\n",
              "    <tr>\n",
              "      <th>...</th>\n",
              "      <td>...</td>\n",
              "      <td>...</td>\n",
              "      <td>...</td>\n",
              "      <td>...</td>\n",
              "      <td>...</td>\n",
              "    </tr>\n",
              "    <tr>\n",
              "      <th>146</th>\n",
              "      <td>6.500000</td>\n",
              "      <td>3.000000</td>\n",
              "      <td>5.500000</td>\n",
              "      <td>1.800000</td>\n",
              "      <td>Virginica</td>\n",
              "    </tr>\n",
              "    <tr>\n",
              "      <th>147</th>\n",
              "      <td>6.400000</td>\n",
              "      <td>2.800000</td>\n",
              "      <td>5.600000</td>\n",
              "      <td>2.100000</td>\n",
              "      <td>Virginica</td>\n",
              "    </tr>\n",
              "    <tr>\n",
              "      <th>148</th>\n",
              "      <td>5.000000</td>\n",
              "      <td>3.400000</td>\n",
              "      <td>1.600000</td>\n",
              "      <td>0.400000</td>\n",
              "      <td>Setosa</td>\n",
              "    </tr>\n",
              "    <tr>\n",
              "      <th>149</th>\n",
              "      <td>7.585096</td>\n",
              "      <td>3.196326</td>\n",
              "      <td>6.270201</td>\n",
              "      <td>1.538527</td>\n",
              "      <td>Virginica</td>\n",
              "    </tr>\n",
              "    <tr>\n",
              "      <th>150</th>\n",
              "      <td>5.688805</td>\n",
              "      <td>3.006160</td>\n",
              "      <td>4.607135</td>\n",
              "      <td>1.530432</td>\n",
              "      <td>Versicolor</td>\n",
              "    </tr>\n",
              "  </tbody>\n",
              "</table>\n",
              "<p>151 rows × 5 columns</p>\n",
              "</div>\n",
              "      <button class=\"colab-df-convert\" onclick=\"convertToInteractive('df-23ff8a6a-7d5c-4907-8260-2b181604630e')\"\n",
              "              title=\"Convert this dataframe to an interactive table.\"\n",
              "              style=\"display:none;\">\n",
              "        \n",
              "  <svg xmlns=\"http://www.w3.org/2000/svg\" height=\"24px\"viewBox=\"0 0 24 24\"\n",
              "       width=\"24px\">\n",
              "    <path d=\"M0 0h24v24H0V0z\" fill=\"none\"/>\n",
              "    <path d=\"M18.56 5.44l.94 2.06.94-2.06 2.06-.94-2.06-.94-.94-2.06-.94 2.06-2.06.94zm-11 1L8.5 8.5l.94-2.06 2.06-.94-2.06-.94L8.5 2.5l-.94 2.06-2.06.94zm10 10l.94 2.06.94-2.06 2.06-.94-2.06-.94-.94-2.06-.94 2.06-2.06.94z\"/><path d=\"M17.41 7.96l-1.37-1.37c-.4-.4-.92-.59-1.43-.59-.52 0-1.04.2-1.43.59L10.3 9.45l-7.72 7.72c-.78.78-.78 2.05 0 2.83L4 21.41c.39.39.9.59 1.41.59.51 0 1.02-.2 1.41-.59l7.78-7.78 2.81-2.81c.8-.78.8-2.07 0-2.86zM5.41 20L4 18.59l7.72-7.72 1.47 1.35L5.41 20z\"/>\n",
              "  </svg>\n",
              "      </button>\n",
              "      \n",
              "  <style>\n",
              "    .colab-df-container {\n",
              "      display:flex;\n",
              "      flex-wrap:wrap;\n",
              "      gap: 12px;\n",
              "    }\n",
              "\n",
              "    .colab-df-convert {\n",
              "      background-color: #E8F0FE;\n",
              "      border: none;\n",
              "      border-radius: 50%;\n",
              "      cursor: pointer;\n",
              "      display: none;\n",
              "      fill: #1967D2;\n",
              "      height: 32px;\n",
              "      padding: 0 0 0 0;\n",
              "      width: 32px;\n",
              "    }\n",
              "\n",
              "    .colab-df-convert:hover {\n",
              "      background-color: #E2EBFA;\n",
              "      box-shadow: 0px 1px 2px rgba(60, 64, 67, 0.3), 0px 1px 3px 1px rgba(60, 64, 67, 0.15);\n",
              "      fill: #174EA6;\n",
              "    }\n",
              "\n",
              "    [theme=dark] .colab-df-convert {\n",
              "      background-color: #3B4455;\n",
              "      fill: #D2E3FC;\n",
              "    }\n",
              "\n",
              "    [theme=dark] .colab-df-convert:hover {\n",
              "      background-color: #434B5C;\n",
              "      box-shadow: 0px 1px 3px 1px rgba(0, 0, 0, 0.15);\n",
              "      filter: drop-shadow(0px 1px 2px rgba(0, 0, 0, 0.3));\n",
              "      fill: #FFFFFF;\n",
              "    }\n",
              "  </style>\n",
              "\n",
              "      <script>\n",
              "        const buttonEl =\n",
              "          document.querySelector('#df-23ff8a6a-7d5c-4907-8260-2b181604630e button.colab-df-convert');\n",
              "        buttonEl.style.display =\n",
              "          google.colab.kernel.accessAllowed ? 'block' : 'none';\n",
              "\n",
              "        async function convertToInteractive(key) {\n",
              "          const element = document.querySelector('#df-23ff8a6a-7d5c-4907-8260-2b181604630e');\n",
              "          const dataTable =\n",
              "            await google.colab.kernel.invokeFunction('convertToInteractive',\n",
              "                                                     [key], {});\n",
              "          if (!dataTable) return;\n",
              "\n",
              "          const docLinkHtml = 'Like what you see? Visit the ' +\n",
              "            '<a target=\"_blank\" href=https://colab.research.google.com/notebooks/data_table.ipynb>data table notebook</a>'\n",
              "            + ' to learn more about interactive tables.';\n",
              "          element.innerHTML = '';\n",
              "          dataTable['output_type'] = 'display_data';\n",
              "          await google.colab.output.renderOutput(dataTable, element);\n",
              "          const docLink = document.createElement('div');\n",
              "          docLink.innerHTML = docLinkHtml;\n",
              "          element.appendChild(docLink);\n",
              "        }\n",
              "      </script>\n",
              "    </div>\n",
              "  </div>\n",
              "  "
            ]
          },
          "metadata": {},
          "execution_count": 40
        }
      ],
      "source": [
        "iris_fg = fs.get_feature_group(name=\"iris\", version=1)\n",
        "df = iris_fg.read()\n",
        "df"
      ]
    },
    {
      "cell_type": "code",
      "execution_count": 41,
      "metadata": {
        "colab": {
          "base_uri": "https://localhost:8080/",
          "height": 35
        },
        "id": "fKNAbmAdtHtN",
        "outputId": "acd4c293-6676-465c-d7ff-7255c3883599"
      },
      "outputs": [
        {
          "output_type": "execute_result",
          "data": {
            "text/plain": [
              "'Versicolor'"
            ],
            "application/vnd.google.colaboratory.intrinsic+json": {
              "type": "string"
            }
          },
          "metadata": {},
          "execution_count": 41
        }
      ],
      "source": [
        "label = df.iloc[-1][\"variety\"]\n",
        "label"
      ]
    },
    {
      "cell_type": "code",
      "execution_count": 42,
      "metadata": {
        "id": "lCeIENRmtHtO"
      },
      "outputs": [],
      "source": [
        "label_flower = \"/assets/\" + label + \".png\"\n",
        "\n",
        "img = Image.open(label_flower)            \n",
        "\n",
        "img.save(\"../../assets/actual_iris.png\")\n",
        "# img.save(\"/content/actual_iris.png\")"
      ]
    },
    {
      "cell_type": "code",
      "execution_count": 44,
      "metadata": {
        "id": "v8G-gFdrtHtO"
      },
      "outputs": [],
      "source": [
        "import pandas as pd\n",
        "\n",
        "monitor_fg = fs.get_or_create_feature_group(name=\"iris_predictions\",\n",
        "                                  version=1,\n",
        "                                  primary_key=[\"datetime\"],\n",
        "                                  description=\"Iris flower Prediction/Outcome Monitoring\"\n",
        "                                 )"
      ]
    },
    {
      "cell_type": "code",
      "execution_count": 45,
      "metadata": {
        "colab": {
          "base_uri": "https://localhost:8080/",
          "height": 120,
          "referenced_widgets": [
            "57c07749f30740b5a0678ce9c59e707c",
            "413d3f5818c2408e9247c9bb07a1e2b8",
            "db0cde4f049445a996a5e24addfdb1da",
            "90feb272451c4461ade5b35666b22e59",
            "2822e7ece9304967bd011b6d09e2f543",
            "59b300958d1d4ee0b8de481b7a207f8c",
            "7a98660a1c814fe3869f7921e632482a",
            "bf948ac2694e44f29abfe328029647f8",
            "d10d30957b5c47b386f6a2a4dd3963f7",
            "5c1c059282d54a519855862992b357f1",
            "d725b0f10bc54291aae4d2ca6b859238"
          ]
        },
        "id": "8T2W__xqtHtO",
        "outputId": "d8c2bdf9-99fd-467b-e212-a3134fbbdebc"
      },
      "outputs": [
        {
          "output_type": "display_data",
          "data": {
            "text/plain": [
              "Uploading Dataframe: 0.00% |          | Rows 0/1 | Elapsed Time: 00:00 | Remaining Time: ?"
            ],
            "application/vnd.jupyter.widget-view+json": {
              "version_major": 2,
              "version_minor": 0,
              "model_id": "57c07749f30740b5a0678ce9c59e707c"
            }
          },
          "metadata": {}
        },
        {
          "output_type": "stream",
          "name": "stdout",
          "text": [
            "Launching offline feature group backfill job...\n",
            "Backfill Job started successfully, you can follow the progress at \n",
            "https://c.app.hopsworks.ai/p/3258/jobs/named/iris_predictions_1_offline_fg_backfill/executions\n"
          ]
        },
        {
          "output_type": "execute_result",
          "data": {
            "text/plain": [
              "(<hsfs.core.job.Job at 0x7f55da2b7a90>, None)"
            ]
          },
          "metadata": {},
          "execution_count": 45
        }
      ],
      "source": [
        "from datetime import datetime\n",
        "now = datetime.now().strftime(\"%m/%d/%Y, %H:%M:%S\")\n",
        "\n",
        "data = {\n",
        "    'prediction': [flower],\n",
        "    'label': [label],\n",
        "    'datetime': [now],\n",
        "}\n",
        "monitor_df = pd.DataFrame(data)\n",
        "monitor_fg.insert(monitor_df)"
      ]
    },
    {
      "cell_type": "code",
      "execution_count": 46,
      "metadata": {
        "colab": {
          "base_uri": "https://localhost:8080/",
          "height": 143
        },
        "id": "P1JF3IORtHtO",
        "outputId": "3f2c0442-45a9-4fee-99e6-4eec72d4e424"
      },
      "outputs": [
        {
          "output_type": "execute_result",
          "data": {
            "text/plain": [
              "   prediction       label              datetime\n",
              "0      Setosa      Setosa  10/26/2022, 10:42:26\n",
              "1   Virginica   Virginica  10/26/2022, 10:55:03\n",
              "2  Versicolor  Versicolor  10/26/2022, 10:59:00"
            ],
            "text/html": [
              "\n",
              "  <div id=\"df-bfbf1256-8cd3-41f6-9741-1359d1fc2567\">\n",
              "    <div class=\"colab-df-container\">\n",
              "      <div>\n",
              "<style scoped>\n",
              "    .dataframe tbody tr th:only-of-type {\n",
              "        vertical-align: middle;\n",
              "    }\n",
              "\n",
              "    .dataframe tbody tr th {\n",
              "        vertical-align: top;\n",
              "    }\n",
              "\n",
              "    .dataframe thead th {\n",
              "        text-align: right;\n",
              "    }\n",
              "</style>\n",
              "<table border=\"1\" class=\"dataframe\">\n",
              "  <thead>\n",
              "    <tr style=\"text-align: right;\">\n",
              "      <th></th>\n",
              "      <th>prediction</th>\n",
              "      <th>label</th>\n",
              "      <th>datetime</th>\n",
              "    </tr>\n",
              "  </thead>\n",
              "  <tbody>\n",
              "    <tr>\n",
              "      <th>0</th>\n",
              "      <td>Setosa</td>\n",
              "      <td>Setosa</td>\n",
              "      <td>10/26/2022, 10:42:26</td>\n",
              "    </tr>\n",
              "    <tr>\n",
              "      <th>1</th>\n",
              "      <td>Virginica</td>\n",
              "      <td>Virginica</td>\n",
              "      <td>10/26/2022, 10:55:03</td>\n",
              "    </tr>\n",
              "    <tr>\n",
              "      <th>2</th>\n",
              "      <td>Versicolor</td>\n",
              "      <td>Versicolor</td>\n",
              "      <td>10/26/2022, 10:59:00</td>\n",
              "    </tr>\n",
              "  </tbody>\n",
              "</table>\n",
              "</div>\n",
              "      <button class=\"colab-df-convert\" onclick=\"convertToInteractive('df-bfbf1256-8cd3-41f6-9741-1359d1fc2567')\"\n",
              "              title=\"Convert this dataframe to an interactive table.\"\n",
              "              style=\"display:none;\">\n",
              "        \n",
              "  <svg xmlns=\"http://www.w3.org/2000/svg\" height=\"24px\"viewBox=\"0 0 24 24\"\n",
              "       width=\"24px\">\n",
              "    <path d=\"M0 0h24v24H0V0z\" fill=\"none\"/>\n",
              "    <path d=\"M18.56 5.44l.94 2.06.94-2.06 2.06-.94-2.06-.94-.94-2.06-.94 2.06-2.06.94zm-11 1L8.5 8.5l.94-2.06 2.06-.94-2.06-.94L8.5 2.5l-.94 2.06-2.06.94zm10 10l.94 2.06.94-2.06 2.06-.94-2.06-.94-.94-2.06-.94 2.06-2.06.94z\"/><path d=\"M17.41 7.96l-1.37-1.37c-.4-.4-.92-.59-1.43-.59-.52 0-1.04.2-1.43.59L10.3 9.45l-7.72 7.72c-.78.78-.78 2.05 0 2.83L4 21.41c.39.39.9.59 1.41.59.51 0 1.02-.2 1.41-.59l7.78-7.78 2.81-2.81c.8-.78.8-2.07 0-2.86zM5.41 20L4 18.59l7.72-7.72 1.47 1.35L5.41 20z\"/>\n",
              "  </svg>\n",
              "      </button>\n",
              "      \n",
              "  <style>\n",
              "    .colab-df-container {\n",
              "      display:flex;\n",
              "      flex-wrap:wrap;\n",
              "      gap: 12px;\n",
              "    }\n",
              "\n",
              "    .colab-df-convert {\n",
              "      background-color: #E8F0FE;\n",
              "      border: none;\n",
              "      border-radius: 50%;\n",
              "      cursor: pointer;\n",
              "      display: none;\n",
              "      fill: #1967D2;\n",
              "      height: 32px;\n",
              "      padding: 0 0 0 0;\n",
              "      width: 32px;\n",
              "    }\n",
              "\n",
              "    .colab-df-convert:hover {\n",
              "      background-color: #E2EBFA;\n",
              "      box-shadow: 0px 1px 2px rgba(60, 64, 67, 0.3), 0px 1px 3px 1px rgba(60, 64, 67, 0.15);\n",
              "      fill: #174EA6;\n",
              "    }\n",
              "\n",
              "    [theme=dark] .colab-df-convert {\n",
              "      background-color: #3B4455;\n",
              "      fill: #D2E3FC;\n",
              "    }\n",
              "\n",
              "    [theme=dark] .colab-df-convert:hover {\n",
              "      background-color: #434B5C;\n",
              "      box-shadow: 0px 1px 3px 1px rgba(0, 0, 0, 0.15);\n",
              "      filter: drop-shadow(0px 1px 2px rgba(0, 0, 0, 0.3));\n",
              "      fill: #FFFFFF;\n",
              "    }\n",
              "  </style>\n",
              "\n",
              "      <script>\n",
              "        const buttonEl =\n",
              "          document.querySelector('#df-bfbf1256-8cd3-41f6-9741-1359d1fc2567 button.colab-df-convert');\n",
              "        buttonEl.style.display =\n",
              "          google.colab.kernel.accessAllowed ? 'block' : 'none';\n",
              "\n",
              "        async function convertToInteractive(key) {\n",
              "          const element = document.querySelector('#df-bfbf1256-8cd3-41f6-9741-1359d1fc2567');\n",
              "          const dataTable =\n",
              "            await google.colab.kernel.invokeFunction('convertToInteractive',\n",
              "                                                     [key], {});\n",
              "          if (!dataTable) return;\n",
              "\n",
              "          const docLinkHtml = 'Like what you see? Visit the ' +\n",
              "            '<a target=\"_blank\" href=https://colab.research.google.com/notebooks/data_table.ipynb>data table notebook</a>'\n",
              "            + ' to learn more about interactive tables.';\n",
              "          element.innerHTML = '';\n",
              "          dataTable['output_type'] = 'display_data';\n",
              "          await google.colab.output.renderOutput(dataTable, element);\n",
              "          const docLink = document.createElement('div');\n",
              "          docLink.innerHTML = docLinkHtml;\n",
              "          element.appendChild(docLink);\n",
              "        }\n",
              "      </script>\n",
              "    </div>\n",
              "  </div>\n",
              "  "
            ]
          },
          "metadata": {},
          "execution_count": 46
        }
      ],
      "source": [
        "history_df = monitor_fg.read()\n",
        "history_df"
      ]
    },
    {
      "cell_type": "code",
      "execution_count": 47,
      "metadata": {
        "id": "ZctYOYAYtHtP"
      },
      "outputs": [],
      "source": [
        "import dataframe_image as dfi\n",
        "\n",
        "df_recent = history_df.tail(5)\n",
        " \n",
        "# If you exclude this image, you may have the same iris_latest.png and iris_actual.png files\n",
        "# If no files have changed, the GH-action 'git commit/push' stage fails, failing your GH action (last step)\n",
        "# This image, however, is always new, ensuring git commit/push will succeed.\n",
        "dfi.export(df_recent, '../../assets/df_recent.png', table_conversion = 'matplotlib')\n",
        "# dfi.export(df_recent, '/content/df_recent.png', table_conversion = 'matplotlib')"
      ]
    },
    {
      "cell_type": "code",
      "execution_count": 48,
      "metadata": {
        "colab": {
          "base_uri": "https://localhost:8080/"
        },
        "id": "FbO-lAQDtHtP",
        "outputId": "e31169e0-355f-42c6-fd9f-fcc49ab4f8b0"
      },
      "outputs": [
        {
          "output_type": "stream",
          "name": "stdout",
          "text": [
            "[[1 0 0]\n",
            " [0 1 0]\n",
            " [0 0 1]]\n"
          ]
        }
      ],
      "source": [
        "from sklearn.metrics import confusion_matrix\n",
        "\n",
        "predictions = history_df[['prediction']]\n",
        "labels = history_df[['label']]\n",
        "\n",
        "results = confusion_matrix(labels, predictions)\n",
        "print(results)"
      ]
    },
    {
      "cell_type": "code",
      "execution_count": 50,
      "metadata": {
        "colab": {
          "base_uri": "https://localhost:8080/",
          "height": 269
        },
        "id": "hy9IJbTHtHtP",
        "outputId": "b03c4172-4c63-420b-d2bf-ce73ad33b254"
      },
      "outputs": [
        {
          "output_type": "display_data",
          "data": {
            "text/plain": [
              "<Figure size 432x288 with 2 Axes>"
            ],
            "image/png": "[encoded data removed]"
          },
          "metadata": {
            "needs_background": "light"
          }
        }
      ],
      "source": [
        "from matplotlib import pyplot\n",
        "import seaborn as sns\n",
        "\n",
        "# Only create the confusion matrix when our iris_predictions feature group has examples of all 3 iris flowers\n",
        "if results.shape == (3,3):\n",
        "\n",
        "    df_cm = pd.DataFrame(results, ['True Setosa', 'True Versicolor', 'True Virginica'],\n",
        "                         ['Pred Setosa', 'Pred Versicolor', 'Pred Virginica'])\n",
        "\n",
        "    cm = sns.heatmap(df_cm, annot=True)\n",
        "\n",
        "    fig = cm.get_figure()\n",
        "    fig.savefig(\"../../assets/confusion_matrix.png\")  \n",
        "    df_cm\n",
        "else:\n",
        "    print(\"Run the batch inference pipeline more times until you get 3 different iris flowers\")    "
      ]
    }
  ],
  "metadata": {
    "colab": {
      "collapsed_sections": [],
      "provenance": []
    },
    "kernelspec": {
      "display_name": "Python 3.10.6 64-bit",
      "language": "python",
      "name": "python3"
    },
    "language_info": {
      "codemirror_mode": {
        "name": "ipython",
        "version": 3
      },
      "file_extension": ".py",
      "mimetype": "text/x-python",
      "name": "python",
      "nbconvert_exporter": "python",
      "pygments_lexer": "ipython3",
      "version": "3.10.6"
    },
    "vscode": {
      "interpreter": {
        "hash": "b0fa6594d8f4cbf19f97940f81e996739fb7646882a419484c72d19e05852a7e"
      }
    },
    "widgets": {
      "application/vnd.jupyter.widget-state+json": {
        "57c07749f30740b5a0678ce9c59e707c": {
          "model_module": "@jupyter-widgets/controls",
          "model_name": "HBoxModel",
          "model_module_version": "1.5.0",
          "state": {
            "_dom_classes": [],
            "_model_module": "@jupyter-widgets/controls",
            "_model_module_version": "1.5.0",
            "_model_name": "HBoxModel",
            "_view_count": null,
            "_view_module": "@jupyter-widgets/controls",
            "_view_module_version": "1.5.0",
            "_view_name": "HBoxView",
            "box_style": "",
            "children": [
              "IPY_MODEL_413d3f5818c2408e9247c9bb07a1e2b8",
              "IPY_MODEL_db0cde4f049445a996a5e24addfdb1da",
              "IPY_MODEL_90feb272451c4461ade5b35666b22e59"
            ],
            "layout": "IPY_MODEL_2822e7ece9304967bd011b6d09e2f543"
          }
        },
        "413d3f5818c2408e9247c9bb07a1e2b8": {
          "model_module": "@jupyter-widgets/controls",
          "model_name": "HTMLModel",
          "model_module_version": "1.5.0",
          "state": {
            "_dom_classes": [],
            "_model_module": "@jupyter-widgets/controls",
            "_model_module_version": "1.5.0",
            "_model_name": "HTMLModel",
            "_view_count": null,
            "_view_module": "@jupyter-widgets/controls",
            "_view_module_version": "1.5.0",
            "_view_name": "HTMLView",
            "description": "",
            "description_tooltip": null,
            "layout": "IPY_MODEL_59b300958d1d4ee0b8de481b7a207f8c",
            "placeholder": "​",
            "style": "IPY_MODEL_7a98660a1c814fe3869f7921e632482a",
            "value": "Uploading Dataframe: 100.00% "
          }
        },
        "db0cde4f049445a996a5e24addfdb1da": {
          "model_module": "@jupyter-widgets/controls",
          "model_name": "FloatProgressModel",
          "model_module_version": "1.5.0",
          "state": {
            "_dom_classes": [],
            "_model_module": "@jupyter-widgets/controls",
            "_model_module_version": "1.5.0",
            "_model_name": "FloatProgressModel",
            "_view_count": null,
            "_view_module": "@jupyter-widgets/controls",
            "_view_module_version": "1.5.0",
            "_view_name": "ProgressView",
            "bar_style": "success",
            "description": "",
            "description_tooltip": null,
            "layout": "IPY_MODEL_bf948ac2694e44f29abfe328029647f8",
            "max": 1,
            "min": 0,
            "orientation": "horizontal",
            "style": "IPY_MODEL_d10d30957b5c47b386f6a2a4dd3963f7",
            "value": 1
          }
        },
        "90feb272451c4461ade5b35666b22e59": {
          "model_module": "@jupyter-widgets/controls",
          "model_name": "HTMLModel",
          "model_module_version": "1.5.0",
          "state": {
            "_dom_classes": [],
            "_model_module": "@jupyter-widgets/controls",
            "_model_module_version": "1.5.0",
            "_model_name": "HTMLModel",
            "_view_count": null,
            "_view_module": "@jupyter-widgets/controls",
            "_view_module_version": "1.5.0",
            "_view_name": "HTMLView",
            "description": "",
            "description_tooltip": null,
            "layout": "IPY_MODEL_5c1c059282d54a519855862992b357f1",
            "placeholder": "​",
            "style": "IPY_MODEL_d725b0f10bc54291aae4d2ca6b859238",
            "value": " Rows 1/1 | Elapsed Time: 00:00 | Remaining Time: 00:00"
          }
        },
        "2822e7ece9304967bd011b6d09e2f543": {
          "model_module": "@jupyter-widgets/base",
          "model_name": "LayoutModel",
          "model_module_version": "1.2.0",
          "state": {
            "_model_module": "@jupyter-widgets/base",
            "_model_module_version": "1.2.0",
            "_model_name": "LayoutModel",
            "_view_count": null,
            "_view_module": "@jupyter-widgets/base",
            "_view_module_version": "1.2.0",
            "_view_name": "LayoutView",
            "align_content": null,
            "align_items": null,
            "align_self": null,
            "border": null,
            "bottom": null,
            "display": null,
            "flex": null,
            "flex_flow": null,
            "grid_area": null,
            "grid_auto_columns": null,
            "grid_auto_flow": null,
            "grid_auto_rows": null,
            "grid_column": null,
            "grid_gap": null,
            "grid_row": null,
            "grid_template_areas": null,
            "grid_template_columns": null,
            "grid_template_rows": null,
            "height": null,
            "justify_content": null,
            "justify_items": null,
            "left": null,
            "margin": null,
            "max_height": null,
            "max_width": null,
            "min_height": null,
            "min_width": null,
            "object_fit": null,
            "object_position": null,
            "order": null,
            "overflow": null,
            "overflow_x": null,
            "overflow_y": null,
            "padding": null,
            "right": null,
            "top": null,
            "visibility": null,
            "width": null
          }
        },
        "59b300958d1d4ee0b8de481b7a207f8c": {
          "model_module": "@jupyter-widgets/base",
          "model_name": "LayoutModel",
          "model_module_version": "1.2.0",
          "state": {
            "_model_module": "@jupyter-widgets/base",
            "_model_module_version": "1.2.0",
            "_model_name": "LayoutModel",
            "_view_count": null,
            "_view_module": "@jupyter-widgets/base",
            "_view_module_version": "1.2.0",
            "_view_name": "LayoutView",
            "align_content": null,
            "align_items": null,
            "align_self": null,
            "border": null,
            "bottom": null,
            "display": null,
            "flex": null,
            "flex_flow": null,
            "grid_area": null,
            "grid_auto_columns": null,
            "grid_auto_flow": null,
            "grid_auto_rows": null,
            "grid_column": null,
            "grid_gap": null,
            "grid_row": null,
            "grid_template_areas": null,
            "grid_template_columns": null,
            "grid_template_rows": null,
            "height": null,
            "justify_content": null,
            "justify_items": null,
            "left": null,
            "margin": null,
            "max_height": null,
            "max_width": null,
            "min_height": null,
            "min_width": null,
            "object_fit": null,
            "object_position": null,
            "order": null,
            "overflow": null,
            "overflow_x": null,
            "overflow_y": null,
            "padding": null,
            "right": null,
            "top": null,
            "visibility": null,
            "width": null
          }
        },
        "7a98660a1c814fe3869f7921e632482a": {
          "model_module": "@jupyter-widgets/controls",
          "model_name": "DescriptionStyleModel",
          "model_module_version": "1.5.0",
          "state": {
            "_model_module": "@jupyter-widgets/controls",
            "_model_module_version": "1.5.0",
            "_model_name": "DescriptionStyleModel",
            "_view_count": null,
            "_view_module": "@jupyter-widgets/base",
            "_view_module_version": "1.2.0",
            "_view_name": "StyleView",
            "description_width": ""
          }
        },
        "bf948ac2694e44f29abfe328029647f8": {
          "model_module": "@jupyter-widgets/base",
          "model_name": "LayoutModel",
          "model_module_version": "1.2.0",
          "state": {
            "_model_module": "@jupyter-widgets/base",
            "_model_module_version": "1.2.0",
            "_model_name": "LayoutModel",
            "_view_count": null,
            "_view_module": "@jupyter-widgets/base",
            "_view_module_version": "1.2.0",
            "_view_name": "LayoutView",
            "align_content": null,
            "align_items": null,
            "align_self": null,
            "border": null,
            "bottom": null,
            "display": null,
            "flex": null,
            "flex_flow": null,
            "grid_area": null,
            "grid_auto_columns": null,
            "grid_auto_flow": null,
            "grid_auto_rows": null,
            "grid_column": null,
            "grid_gap": null,
            "grid_row": null,
            "grid_template_areas": null,
            "grid_template_columns": null,
            "grid_template_rows": null,
            "height": null,
            "justify_content": null,
            "justify_items": null,
            "left": null,
            "margin": null,
            "max_height": null,
            "max_width": null,
            "min_height": null,
            "min_width": null,
            "object_fit": null,
            "object_position": null,
            "order": null,
            "overflow": null,
            "overflow_x": null,
            "overflow_y": null,
            "padding": null,
            "right": null,
            "top": null,
            "visibility": null,
            "width": null
          }
        },
        "d10d30957b5c47b386f6a2a4dd3963f7": {
          "model_module": "@jupyter-widgets/controls",
          "model_name": "ProgressStyleModel",
          "model_module_version": "1.5.0",
          "state": {
            "_model_module": "@jupyter-widgets/controls",
            "_model_module_version": "1.5.0",
            "_model_name": "ProgressStyleModel",
            "_view_count": null,
            "_view_module": "@jupyter-widgets/base",
            "_view_module_version": "1.2.0",
            "_view_name": "StyleView",
            "bar_color": null,
            "description_width": ""
          }
        },
        "5c1c059282d54a519855862992b357f1": {
          "model_module": "@jupyter-widgets/base",
          "model_name": "LayoutModel",
          "model_module_version": "1.2.0",
          "state": {
            "_model_module": "@jupyter-widgets/base",
            "_model_module_version": "1.2.0",
            "_model_name": "LayoutModel",
            "_view_count": null,
            "_view_module": "@jupyter-widgets/base",
            "_view_module_version": "1.2.0",
            "_view_name": "LayoutView",
            "align_content": null,
            "align_items": null,
            "align_self": null,
            "border": null,
            "bottom": null,
            "display": null,
            "flex": null,
            "flex_flow": null,
            "grid_area": null,
            "grid_auto_columns": null,
            "grid_auto_flow": null,
            "grid_auto_rows": null,
            "grid_column": null,
            "grid_gap": null,
            "grid_row": null,
            "grid_template_areas": null,
            "grid_template_columns": null,
            "grid_template_rows": null,
            "height": null,
            "justify_content": null,
            "justify_items": null,
            "left": null,
            "margin": null,
            "max_height": null,
            "max_width": null,
            "min_height": null,
            "min_width": null,
            "object_fit": null,
            "object_position": null,
            "order": null,
            "overflow": null,
            "overflow_x": null,
            "overflow_y": null,
            "padding": null,
            "right": null,
            "top": null,
            "visibility": null,
            "width": null
          }
        },
        "d725b0f10bc54291aae4d2ca6b859238": {
          "model_module": "@jupyter-widgets/controls",
          "model_name": "DescriptionStyleModel",
          "model_module_version": "1.5.0",
          "state": {
            "_model_module": "@jupyter-widgets/controls",
            "_model_module_version": "1.5.0",
            "_model_name": "DescriptionStyleModel",
            "_view_count": null,
            "_view_module": "@jupyter-widgets/base",
            "_view_module_version": "1.2.0",
            "_view_name": "StyleView",
            "description_width": ""
          }
        }
      }
    }
  },
  "nbformat": 4,
  "nbformat_minor": 0
}